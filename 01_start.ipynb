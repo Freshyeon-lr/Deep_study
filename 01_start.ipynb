{
  "nbformat": 4,
  "nbformat_minor": 0,
  "metadata": {
    "colab": {
      "name": "01_start.ipynb",
      "provenance": [],
      "collapsed_sections": [],
      "authorship_tag": "ABX9TyPc7PqM8BYqlEfFblyGa8Rq",
      "include_colab_link": true
    },
    "kernelspec": {
      "name": "python3",
      "display_name": "Python 3"
    }
  },
  "cells": [
    {
      "cell_type": "markdown",
      "metadata": {
        "id": "view-in-github",
        "colab_type": "text"
      },
      "source": [
        "<a href=\"https://colab.research.google.com/github/yusihyeon/Deep_study/blob/master/01_start.ipynb\" target=\"_parent\"><img src=\"https://colab.research.google.com/assets/colab-badge.svg\" alt=\"Open In Colab\"/></a>"
      ]
    },
    {
      "cell_type": "code",
      "metadata": {
        "id": "6Hzm_lqnNPzY",
        "colab_type": "code",
        "colab": {
          "base_uri": "https://localhost:8080/",
          "height": 98
        },
        "outputId": "8f0e8d8a-4e46-474d-a92a-3063b3395cff"
      },
      "source": [
        "import tensorflow as tf\n",
        "\n",
        "## Hello TensorFlow!\n",
        "\n",
        "# Create a constant op\n",
        "\n",
        "# This op is added as a node to the default graph\n",
        "\n",
        "hello = tf.constant(\"Hello, TensorFlow!\")\n",
        "\n",
        "\n",
        "# start a TF session\n",
        "sess = tf.Session()\n",
        "\n",
        "\n",
        "# run the op and get result\n",
        "\n",
        "print(sess.run(hello))\n",
        "\n",
        "print(str(sess.run(hello),encoding=\"utf-8\"))\n",
        "\n",
        "sess.close()\n"
      ],
      "execution_count": 2,
      "outputs": [
        {
          "output_type": "display_data",
          "data": {
            "text/html": [
              "<p style=\"color: red;\">\n",
              "The default version of TensorFlow in Colab will soon switch to TensorFlow 2.x.<br>\n",
              "We recommend you <a href=\"https://www.tensorflow.org/guide/migrate\" target=\"_blank\">upgrade</a> now \n",
              "or ensure your notebook will continue to use TensorFlow 1.x via the <code>%tensorflow_version 1.x</code> magic:\n",
              "<a href=\"https://colab.research.google.com/notebooks/tensorflow_version.ipynb\" target=\"_blank\">more info</a>.</p>\n"
            ],
            "text/plain": [
              "<IPython.core.display.HTML object>"
            ]
          },
          "metadata": {
            "tags": []
          }
        },
        {
          "output_type": "stream",
          "text": [
            "b'Hello, TensorFlow!'\n",
            "Hello, TensorFlow!\n"
          ],
          "name": "stdout"
        }
      ]
    },
    {
      "cell_type": "code",
      "metadata": {
        "id": "zABwJ1SGNlzd",
        "colab_type": "code",
        "colab": {
          "base_uri": "https://localhost:8080/",
          "height": 34
        },
        "outputId": "e32c9e73-8a67-427e-eac2-72884c36a0bc"
      },
      "source": [
        "## Tensor\n",
        "3                                       # a rank 0 tensor; this is a scalar with shape\n",
        "\n",
        "[1. ,2., 3.]                          # a rank 1 tensor; this is a vector with shape (3)\n",
        "\n",
        "[[1., 2., 3.], [4., 5., 6.]]       # a rank 2 tensor; a matrix with shape (2, 3)\n",
        "\n",
        "[[[1., 2., 3.]], [[7., 8., 9.]]]   # a rank 3 tensor with shape (2, 1, 3)\n"
      ],
      "execution_count": 3,
      "outputs": [
        {
          "output_type": "execute_result",
          "data": {
            "text/plain": [
              "[[[1.0, 2.0, 3.0]], [[7.0, 8.0, 9.0]]]"
            ]
          },
          "metadata": {
            "tags": []
          },
          "execution_count": 3
        }
      ]
    },
    {
      "cell_type": "code",
      "metadata": {
        "id": "g7aeBSs7NudZ",
        "colab_type": "code",
        "colab": {
          "base_uri": "https://localhost:8080/",
          "height": 87
        },
        "outputId": "285dddde-3e29-472d-bb1c-e344a59f1230"
      },
      "source": [
        "## Computational Graph\n",
        "import tensorflow as tf\n",
        "\n",
        "\n",
        "node1 = tf.constant(3.0, tf.float32)\n",
        "node2 = tf.constant(4.0) # also tf.float32 implicitly\n",
        "node3 = tf.add(node1, node2)\n",
        "\n",
        "\n",
        "\n",
        "print(\"node1:\", node1, \"node2:\", node2)\n",
        "print(\"node3: \", node3)\n",
        "\n",
        "\n",
        "sess = tf.Session()\n",
        "print(\"sess.run(node1, node2): \", sess.run([node1, node2]))\n",
        "print(\"sess.run(node3): \", sess.run(node3))\n",
        "\n",
        "\n"
      ],
      "execution_count": 4,
      "outputs": [
        {
          "output_type": "stream",
          "text": [
            "node1: Tensor(\"Const_1:0\", shape=(), dtype=float32) node2: Tensor(\"Const_2:0\", shape=(), dtype=float32)\n",
            "node3:  Tensor(\"Add:0\", shape=(), dtype=float32)\n",
            "sess.run(node1, node2):  [3.0, 4.0]\n",
            "sess.run(node3):  7.0\n"
          ],
          "name": "stdout"
        }
      ]
    }
  ]
}